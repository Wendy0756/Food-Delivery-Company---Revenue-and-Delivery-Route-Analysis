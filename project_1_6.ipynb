{
 "cells": [
  {
   "cell_type": "markdown",
   "id": "cd11da2a",
   "metadata": {},
   "source": [
    "# Project 1, Part 6, Identifying Best Customers\n"
   ]
  },
  {
   "cell_type": "markdown",
   "id": "701f1c25",
   "metadata": {},
   "source": [
    "# 1.6 Ideas on how the sales data can be used to help identify best customers\n",
    "\n",
    "The data science team would like to know your best ideas on how the sales data can be used to help identify the company's best customers.\n",
    "\n",
    "\n",
    "\n",
    "They are going to start with the most common and most basic model known as RFM, which consists of the 3 dimensions.\n",
    "\n",
    "* R - Recency - How recently did the customer purchase?\n",
    "\n",
    "* F - Frequency - How often do they purchase?\n",
    "\n",
    "* M - Monetary Value - How much do they spend?\n",
    "\n",
    "\n",
    "\n",
    "At first glance, it's pretty easy to think of a simple query for each dimension.\n",
    "\n",
    "However, after some thought, it's not quite so easy. It's very open ended, with a lot of grey areas, and no single right or wrong answer (just like 99% of data science and AI!)  For each dimension, there can be some pretty complex ways to determine.\n",
    "\n",
    "The data science team also has to come up with a way to synthesize the 3 dimensions into a single customer value for each customer.\n",
    "\n",
    "\n",
    "\n",
    "The data science team would like for you to present your ideas in the form of a title and 4 paragraphs as follows:\n",
    "\n",
    "* Title - A title describing what you will be explaining\n",
    "\n",
    "* Recency - A brief paragraph explaining your ideas on how the data can be used to determine recency.  \n",
    "\n",
    "* Frequency - A brief paragraph explaining your ideas on how the data can be used to determine frequency.\n",
    "\n",
    "* Monetary Value - A brief paragraph explaining your ideas on how the data can be used to determine monetary value.\n",
    "\n",
    "* Synthesis - A brief paragraph explaining your ideas on how to synthesize the 3 dimensions of recency, frequency, and monetary value into a customer value for each customer and how to determine who the best customers are.\n",
    "\n",
    "\n",
    "\n",
    "Put the title and all 4 paragraphs in a single markdown cell.\n",
    "\n",
    "Note that you do not write code for this, only english language descriptions of your ideas.\n",
    "\n"
   ]
  },
  {
   "cell_type": "markdown",
   "id": "67dd986f",
   "metadata": {},
   "source": [
    "# Customer Value Evaluation under the RFM Framework\n",
    "\n",
    "Recency - Customers' scores from the recency perspective is calculated from the average number of days since their last 3 purchases to our study date. Holidays need to be excluded from the count due to inevitable store close. A smaller number of days leads to higher recency score.\n",
    "\n",
    "Frequency - Frequency is measured by the rate of number of purchases of each type of food made by each customer over the total purchase amount within a non-holiday month. A relatively long period is chosen to rule out the impact of short term perference. Customers' royalty towards food varies based on their tastes, so we need to evaluate the frequency score by food type as well. The ratio standardizes data and measures the importance of each customer to each type of food. A higher ratio means higher frequency score.\n",
    "\n",
    "Monetary Value - A Customer's monetary value is measured by his/her total money spent on a food in a year over the total annual sales dollar amount of that food. The annual spending of a customer can be calculated by annualizing (times 10) the sales of a random non-holiday month, plus the sales of the two holiday months. Higher annual spending means higher monetary value.\n",
    "\n",
    "Synthesis - Valuable customers should win either top 5% score in one single category or top 5% weighted average score among the three dimensions. To calculate a weighted average scores, the weights are assigned 20% to Recency, 40% to Frequency, and 40% to monetary value. A high recency score points out the potential of the customer. A high frequency score indicates the royalty of the customer. A high monetary score directly reflects the customer's value to our store. In addition to the numerical analysis, we will also plot out the customers' visit frequency and money spent, to explore if any pattern exists. Customer behavior pattern might open up doors to new business opportunties.  "
   ]
  },
  {
   "cell_type": "code",
   "execution_count": null,
   "id": "844303d0",
   "metadata": {},
   "outputs": [],
   "source": []
  }
 ],
 "metadata": {
  "kernelspec": {
   "display_name": "Python 3 (ipykernel)",
   "language": "python",
   "name": "python3"
  },
  "language_info": {
   "codemirror_mode": {
    "name": "ipython",
    "version": 3
   },
   "file_extension": ".py",
   "mimetype": "text/x-python",
   "name": "python",
   "nbconvert_exporter": "python",
   "pygments_lexer": "ipython3",
   "version": "3.9.7"
  }
 },
 "nbformat": 4,
 "nbformat_minor": 5
}
